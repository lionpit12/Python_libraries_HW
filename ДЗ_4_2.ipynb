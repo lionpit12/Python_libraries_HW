{
 "cells": [
  {
   "cell_type": "code",
   "execution_count": 1,
   "id": "b0fdfc21",
   "metadata": {},
   "outputs": [],
   "source": [
    "import numpy as np\n",
    "import pandas as pd\n",
    "from matplotlib import pyplot as plt"
   ]
  },
  {
   "cell_type": "code",
   "execution_count": 2,
   "id": "f3aef467",
   "metadata": {},
   "outputs": [],
   "source": [
    "%matplotlib inline\n",
    "%config InlineBackend.figure_format = 'svg'"
   ]
  },
  {
   "cell_type": "code",
   "execution_count": 4,
   "id": "fd20f247",
   "metadata": {},
   "outputs": [
    {
     "data": {
      "text/plain": [
       "array([12, 13, 14, 15, 16, 17, 18, 19, 20, 21, 22, 24], dtype=int16)"
      ]
     },
     "execution_count": 4,
     "metadata": {},
     "output_type": "execute_result"
    }
   ],
   "source": [
    "a=np.linspace(12,24,12,dtype=np.int16)\n",
    "a"
   ]
  },
  {
   "cell_type": "code",
   "execution_count": 8,
   "id": "68f5e47f",
   "metadata": {},
   "outputs": [],
   "source": [
    "def all_div(a:int):\n",
    "    \"\"\"The function returns the list of all devisors of a\"\"\"\n",
    "    final=[]\n",
    "    for x in range(1,a+1):\n",
    "        if a%x==0:\n",
    "            final.append(x)\n",
    "    return final\n",
    "        "
   ]
  },
  {
   "cell_type": "code",
   "execution_count": 13,
   "id": "33e5ed92",
   "metadata": {},
   "outputs": [
    {
     "data": {
      "text/plain": [
       "[(1, 12), (2, 6), (3, 4), (4, 3), (6, 2), (12, 1)]"
      ]
     },
     "execution_count": 13,
     "metadata": {},
     "output_type": "execute_result"
    }
   ],
   "source": [
    "l=all_div(12)\n",
    "l1=all_div(12)\n",
    "shapes=[]\n",
    "for x in l:\n",
    "    for y in l1:\n",
    "        if y*x==12:\n",
    "            shapes.append((x,y))\n",
    "shapes\n"
   ]
  },
  {
   "cell_type": "code",
   "execution_count": 20,
   "id": "98abc51f",
   "metadata": {},
   "outputs": [
    {
     "name": "stdout",
     "output_type": "stream",
     "text": [
      "[[12 13 14 15 16 17]\n",
      " [18 19 20 21 22 24]]\n",
      "[[12 13 14 15]\n",
      " [16 17 18 19]\n",
      " [20 21 22 24]]\n",
      "[[12 13 14]\n",
      " [15 16 17]\n",
      " [18 19 20]\n",
      " [21 22 24]]\n",
      "[[12 13]\n",
      " [14 15]\n",
      " [16 17]\n",
      " [18 19]\n",
      " [20 21]\n",
      " [22 24]]\n"
     ]
    }
   ],
   "source": [
    "for point in shapes:\n",
    "    if point[0]!=1:\n",
    "        if point[0]!=12:\n",
    "            print(a.reshape(point[0],point[1]))"
   ]
  },
  {
   "cell_type": "code",
   "execution_count": 23,
   "id": "72fc6b81",
   "metadata": {},
   "outputs": [
    {
     "name": "stdout",
     "output_type": "stream",
     "text": [
      "[[12 13 14 15 16 17 18 19 20 21 22 24]]\n",
      "[[12 13 14 15 16 17]\n",
      " [18 19 20 21 22 24]]\n",
      "[[12 13 14 15]\n",
      " [16 17 18 19]\n",
      " [20 21 22 24]]\n"
     ]
    }
   ],
   "source": [
    "m=all_div(12)\n",
    "for i in m[:3]:\n",
    "    print(a.reshape(i,-1))\n",
    "    "
   ]
  },
  {
   "cell_type": "code",
   "execution_count": 24,
   "id": "ba117885",
   "metadata": {},
   "outputs": [
    {
     "name": "stdout",
     "output_type": "stream",
     "text": [
      "[[12 13 14 15 16 17]\n",
      " [18 19 20 21 22 24]]\n",
      "[[12 13 14 15 16 17 18 19 20 21 22 24]]\n"
     ]
    }
   ],
   "source": [
    "for j in m[4:]:\n",
    "    print(a.reshape(-1,j))"
   ]
  },
  {
   "cell_type": "code",
   "execution_count": 26,
   "id": "7ce50cb4",
   "metadata": {},
   "outputs": [
    {
     "data": {
      "text/plain": [
       "2"
      ]
     },
     "execution_count": 26,
     "metadata": {},
     "output_type": "execute_result"
    }
   ],
   "source": [
    "# Question 4 \n",
    "\n",
    "a.reshape(12,1).ndim"
   ]
  },
  {
   "cell_type": "code",
   "execution_count": 29,
   "id": "1e549ba5",
   "metadata": {},
   "outputs": [
    {
     "data": {
      "text/plain": [
       "array([[-0.7851618 ,  0.49160411, -0.57494762,  0.71758427],\n",
       "       [-1.24704371, -0.68489995,  1.59248256,  0.43481761],\n",
       "       [-0.24596145, -1.93727077,  0.29276325,  0.75167839]])"
      ]
     },
     "execution_count": 29,
     "metadata": {},
     "output_type": "execute_result"
    }
   ],
   "source": [
    "b = np.random.randn(3, 4)\n",
    "b"
   ]
  },
  {
   "cell_type": "code",
   "execution_count": 30,
   "id": "a33a9591",
   "metadata": {},
   "outputs": [
    {
     "data": {
      "text/plain": [
       "array([-0.7851618 ,  0.49160411, -0.57494762,  0.71758427, -1.24704371,\n",
       "       -0.68489995,  1.59248256,  0.43481761, -0.24596145, -1.93727077,\n",
       "        0.29276325,  0.75167839])"
      ]
     },
     "execution_count": 30,
     "metadata": {},
     "output_type": "execute_result"
    }
   ],
   "source": [
    "bb=b.flatten()\n",
    "bb"
   ]
  },
  {
   "cell_type": "code",
   "execution_count": 31,
   "id": "a070179a",
   "metadata": {},
   "outputs": [
    {
     "data": {
      "text/plain": [
       "array([20, 18, 16, 14, 12, 10,  8,  6,  4,  2])"
      ]
     },
     "execution_count": 31,
     "metadata": {},
     "output_type": "execute_result"
    }
   ],
   "source": [
    "# Quest 6 Создать массив a, состоящий из целых чисел, убывающих от 20 до 0 невключительно с интервалом 2.\n",
    "\n",
    "a = np.arange(20, 0, -2)\n",
    "a"
   ]
  },
  {
   "cell_type": "code",
   "execution_count": 32,
   "id": "0156f585",
   "metadata": {},
   "outputs": [
    {
     "data": {
      "text/plain": [
       "1"
      ]
     },
     "execution_count": 32,
     "metadata": {},
     "output_type": "execute_result"
    }
   ],
   "source": [
    "a.ndim"
   ]
  },
  {
   "cell_type": "code",
   "execution_count": 38,
   "id": "a75d9158",
   "metadata": {},
   "outputs": [
    {
     "data": {
      "text/plain": [
       "2"
      ]
     },
     "execution_count": 38,
     "metadata": {},
     "output_type": "execute_result"
    }
   ],
   "source": [
    "# Question 7 Создать массив b, состоящий из 1 строки и 10 столбцов: целых чисел, убывающих от 20 до 1 невключительно с интервалом 2. В чем разница между массивами a и b?\n",
    "b=np.array([[i for i in range(20,0,-2)]for j in range(1)])\n",
    "b.ndim"
   ]
  },
  {
   "cell_type": "code",
   "execution_count": 44,
   "id": "cbb133c7",
   "metadata": {},
   "outputs": [
    {
     "data": {
      "text/plain": [
       "10"
      ]
     },
     "execution_count": 44,
     "metadata": {},
     "output_type": "execute_result"
    }
   ],
   "source": [
    "# Question 8\n",
    "\n",
    "a=np.zeros((3,2))\n",
    "b=np.ones((2,2))\n",
    "d = np.concatenate((a, b), axis=0)\n",
    "d.size"
   ]
  },
  {
   "cell_type": "code",
   "execution_count": 60,
   "id": "dbf338b5",
   "metadata": {},
   "outputs": [
    {
     "data": {
      "text/plain": [
       "(4, 4)"
      ]
     },
     "execution_count": 60,
     "metadata": {},
     "output_type": "execute_result"
    }
   ],
   "source": [
    "# Question 9 \n",
    "c=np.arange(12)\n",
    "s=c.reshape(4,3)\n",
    "At=s.T\n",
    "B=s.dot(At)\n",
    "B.shape\n",
    "# обратное умножение не получится из за отсутствия коммутативного свойства умножения матриц"
   ]
  },
  {
   "cell_type": "code",
   "execution_count": 61,
   "id": "2cc00524",
   "metadata": {},
   "outputs": [
    {
     "data": {
      "text/plain": [
       "51"
      ]
     },
     "execution_count": 61,
     "metadata": {},
     "output_type": "execute_result"
    }
   ],
   "source": [
    "# Question 10 Инициализируйте генератор случайных числе с помощью объекта seed, равного 42.\n",
    "\n",
    "np.random.seed(42)\n",
    "pp=np.random.randint(0,100)\n",
    "pp"
   ]
  },
  {
   "cell_type": "code",
   "execution_count": 70,
   "id": "b3ef82cc",
   "metadata": {},
   "outputs": [
    {
     "data": {
      "text/plain": [
       "array([ 0,  1,  2,  3,  4,  5,  6,  7,  8,  9, 10, 11, 12, 13, 14, 15],\n",
       "      dtype=int16)"
      ]
     },
     "execution_count": 70,
     "metadata": {},
     "output_type": "execute_result"
    }
   ],
   "source": [
    "# Question 11 Создайте одномерный массив c, составленный из последовательности 16-ти случайных равномерно распределенных целых чисел от 0 до 16 невключительно. \n",
    "\n",
    "c = np.linspace(0,15,16,dtype=np.int16)\n",
    "c"
   ]
  },
  {
   "cell_type": "code",
   "execution_count": 71,
   "id": "900e55c5",
   "metadata": {},
   "outputs": [
    {
     "data": {
      "text/plain": [
       "array([[ 0,  1,  2,  3],\n",
       "       [ 4,  5,  6,  7],\n",
       "       [ 8,  9, 10, 11],\n",
       "       [12, 13, 14, 15]], dtype=int16)"
      ]
     },
     "execution_count": 71,
     "metadata": {},
     "output_type": "execute_result"
    }
   ],
   "source": [
    "# Question 12\n",
    "C=c.reshape(4,4)\n",
    "C"
   ]
  },
  {
   "cell_type": "code",
   "execution_count": 79,
   "id": "cd85ffcb",
   "metadata": {},
   "outputs": [
    {
     "data": {
      "text/plain": [
       "array([[  5,  24,  43,  62],\n",
       "       [ 54, 100, 146, 192],\n",
       "       [103, 176, 249, 322],\n",
       "       [152, 252, 352, 452]])"
      ]
     },
     "execution_count": 79,
     "metadata": {},
     "output_type": "execute_result"
    }
   ],
   "source": [
    "# Question 12\n",
    "D=C*10+B\n",
    "D"
   ]
  },
  {
   "cell_type": "code",
   "execution_count": 80,
   "id": "c81591ec",
   "metadata": {},
   "outputs": [
    {
     "data": {
      "text/plain": [
       "2"
      ]
     },
     "execution_count": 80,
     "metadata": {},
     "output_type": "execute_result"
    }
   ],
   "source": [
    "r = np.linalg.matrix_rank(D)\n",
    "r"
   ]
  },
  {
   "cell_type": "code",
   "execution_count": 81,
   "id": "b7f75daa",
   "metadata": {},
   "outputs": [
    {
     "data": {
      "text/plain": [
       "-7.685903354004529e-25"
      ]
     },
     "execution_count": 81,
     "metadata": {},
     "output_type": "execute_result"
    }
   ],
   "source": [
    "d = np.linalg.det(D)"
   ]
  },
  {
   "cell_type": "code",
   "execution_count": 104,
   "id": "3b5434a4",
   "metadata": {},
   "outputs": [
    {
     "data": {
      "text/plain": [
       "array([[ 1.10382344e+13,  5.26315789e-02, -3.31147031e+13,\n",
       "         2.20764688e+13],\n",
       "       [-8.46264636e+13,  9.38249922e+13,  6.62294063e+13,\n",
       "        -7.54279349e+13],\n",
       "       [ 1.36138224e+14, -1.87649984e+14, -3.31147031e+13,\n",
       "         8.46264636e+13],\n",
       "       [-6.25499948e+13,  9.38249922e+13,  0.00000000e+00,\n",
       "        -3.12749974e+13]])"
      ]
     },
     "execution_count": 104,
     "metadata": {},
     "output_type": "execute_result"
    }
   ],
   "source": [
    "D_inv=np.linalg.inv(D)\n",
    "D_inv"
   ]
  },
  {
   "cell_type": "code",
   "execution_count": 105,
   "id": "951b3f46",
   "metadata": {},
   "outputs": [
    {
     "data": {
      "text/plain": [
       "array([[1., 1., 0., 1.],\n",
       "       [0., 1., 1., 0.],\n",
       "       [1., 0., 0., 1.],\n",
       "       [0., 1., 0., 0.]])"
      ]
     },
     "execution_count": 105,
     "metadata": {},
     "output_type": "execute_result"
    }
   ],
   "source": [
    "# Question 13\n",
    "D_inv[D_inv<0]=0\n",
    "D_inv[D_inv>0]=1\n",
    "D_inv"
   ]
  },
  {
   "cell_type": "code",
   "execution_count": 106,
   "id": "0c32fba5",
   "metadata": {},
   "outputs": [
    {
     "data": {
      "text/plain": [
       "array([[1, 3, 4, 0],\n",
       "       [3, 1, 5, 4],\n",
       "       [3, 0, 0, 2],\n",
       "       [2, 1, 3, 3]])"
      ]
     },
     "execution_count": 106,
     "metadata": {},
     "output_type": "execute_result"
    }
   ],
   "source": [
    "E = np.random.randint(0, 6, (4, 4))\n",
    "E"
   ]
  },
  {
   "cell_type": "code",
   "execution_count": 122,
   "id": "681a9857",
   "metadata": {},
   "outputs": [
    {
     "data": {
      "text/plain": [
       "0"
      ]
     },
     "execution_count": 122,
     "metadata": {},
     "output_type": "execute_result"
    }
   ],
   "source": [
    "ind=np.where(D_inv==0)\n",
    "ind[0][0]"
   ]
  },
  {
   "cell_type": "code",
   "execution_count": 123,
   "id": "1befa524",
   "metadata": {},
   "outputs": [],
   "source": [
    "# Увы дальше не знаю как(("
   ]
  },
  {
   "cell_type": "code",
   "execution_count": null,
   "id": "b109f844",
   "metadata": {},
   "outputs": [],
   "source": []
  }
 ],
 "metadata": {
  "kernelspec": {
   "display_name": "Python 3",
   "language": "python",
   "name": "python3"
  },
  "language_info": {
   "codemirror_mode": {
    "name": "ipython",
    "version": 3
   },
   "file_extension": ".py",
   "mimetype": "text/x-python",
   "name": "python",
   "nbconvert_exporter": "python",
   "pygments_lexer": "ipython3",
   "version": "3.8.8"
  }
 },
 "nbformat": 4,
 "nbformat_minor": 5
}
